{
 "cells": [
  {
   "cell_type": "markdown",
   "id": "b7043cc7-16bd-44bc-bef3-f82f6bf39359",
   "metadata": {},
   "source": [
    "# 4.Median of Two Sorted Arrays"
   ]
  },
  {
   "cell_type": "markdown",
   "id": "db50ee13-b413-4d3e-a145-e85ec02e83e8",
   "metadata": {},
   "source": [
    "Given two sorted arrays nums1 and nums2 of size m and n respectively, return the median of the two sorted arrays.\n",
    "\n",
    "The overall run time complexity should be O(log (m+n))."
   ]
  },
  {
   "cell_type": "markdown",
   "id": "a4384073-caa5-42d5-b7d6-17bc14dd4989",
   "metadata": {},
   "source": [
    "Example 1:\n",
    "```\n",
    "Input: nums1 = [1,3], nums2 = [2]\n",
    "Output: 2.00000\n",
    "Explanation: merged array = [1,2,3] and median is 2.\n",
    "```\n",
    "Example 2:\n",
    "```\n",
    "Input: nums1 = [1,2], nums2 = [3,4]\n",
    "Output: 2.50000\n",
    "Explanation: merged array = [1,2,3,4] and median is (2 + 3) / 2 = 2.5.\n",
    "```"
   ]
  },
  {
   "cell_type": "markdown",
   "id": "50024037-a557-488c-a48d-ecbd0e978d8f",
   "metadata": {},
   "source": [
    "## 解法:將兩個List合併並排序後找中位數"
   ]
  },
  {
   "cell_type": "code",
   "execution_count": 57,
   "id": "aef5d843-d203-4ac9-a5ef-779f560c0d1e",
   "metadata": {
    "tags": []
   },
   "outputs": [],
   "source": [
    "class Solution(object):\n",
    "    def findMedianSortedArrays(self,nums1, nums2):\n",
    "        \"\"\"\n",
    "        :type nums1: List[int]\n",
    "        :type nums2: List[int]\n",
    "        :rtype: float\n",
    "        \"\"\"\n",
    "        num = sorted(nums1+nums2)\n",
    "        index = (len(num) - 1) // 2\n",
    "        if (len(num) % 2):\n",
    "            return num[index]\n",
    "        else:\n",
    "            return (num[index] + num[index + 1])/2.0"
   ]
  },
  {
   "cell_type": "code",
   "execution_count": 55,
   "id": "1389f51b-8798-40be-ab80-a2ff324ac3dd",
   "metadata": {
    "tags": []
   },
   "outputs": [],
   "source": [
    "num1 = [1,2,3,4]\n",
    "num2 = [2]"
   ]
  },
  {
   "cell_type": "code",
   "execution_count": 58,
   "id": "fb614ae5-7494-4921-b34b-333d5156cc3b",
   "metadata": {
    "tags": []
   },
   "outputs": [
    {
     "data": {
      "text/plain": [
       "2"
      ]
     },
     "execution_count": 58,
     "metadata": {},
     "output_type": "execute_result"
    }
   ],
   "source": [
    "ai = Solution()\n",
    "ai.findMedianSortedArrays(num1,num2)"
   ]
  },
  {
   "cell_type": "markdown",
   "id": "dd3b072b-c3e3-439a-9310-4e8f4c421626",
   "metadata": {},
   "source": [
    "# 官方解"
   ]
  },
  {
   "cell_type": "code",
   "execution_count": null,
   "id": "5357af98-4289-4967-bae3-e642b5aadd92",
   "metadata": {},
   "outputs": [],
   "source": []
  },
  {
   "cell_type": "code",
   "execution_count": null,
   "id": "7e3a402b-0611-42f3-8d50-f025ab9c602a",
   "metadata": {},
   "outputs": [],
   "source": []
  },
  {
   "cell_type": "code",
   "execution_count": null,
   "id": "1b1308bb-434c-4338-a5cc-0e46098718ba",
   "metadata": {},
   "outputs": [],
   "source": []
  }
 ],
 "metadata": {
  "kernelspec": {
   "display_name": "Python 3 (ipykernel)",
   "language": "python",
   "name": "python3"
  },
  "language_info": {
   "codemirror_mode": {
    "name": "ipython",
    "version": 3
   },
   "file_extension": ".py",
   "mimetype": "text/x-python",
   "name": "python",
   "nbconvert_exporter": "python",
   "pygments_lexer": "ipython3",
   "version": "3.11.2"
  }
 },
 "nbformat": 4,
 "nbformat_minor": 5
}
