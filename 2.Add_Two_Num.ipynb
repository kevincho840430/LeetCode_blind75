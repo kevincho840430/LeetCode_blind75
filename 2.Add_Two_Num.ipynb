{
 "cells": [
  {
   "cell_type": "markdown",
   "id": "70933754-5171-4a34-8a18-564d11cbe9b5",
   "metadata": {},
   "source": [
    "# 2.Add_Two_Num"
   ]
  },
  {
   "cell_type": "markdown",
   "id": "5e8b7ea2-5fa1-4987-8257-04c3e2a6ff5f",
   "metadata": {
    "tags": []
   },
   "source": [
    "You are given two non-empty linked lists representing two non-negative integers. The digits are stored in reverse order, and each of their nodes contains a single digit. Add the two numbers and return the sum as a linked list.\n",
    "\n",
    "You may assume the two numbers do not contain any leading zero, except the number 0 itself."
   ]
  },
  {
   "cell_type": "markdown",
   "id": "4f775e00-dc78-4eb4-96dd-fc7bff26fdc8",
   "metadata": {},
   "source": [
    "```\n",
    "Input: l1 = [2,4,3], l2 = [5,6,4]\n",
    "Output: [7,0,8]\n",
    "Explanation: 342 + 465 = 807.\n",
    "```"
   ]
  },
  {
   "cell_type": "markdown",
   "id": "898ae77f-ca8b-4d7a-8fe9-6208e0b889de",
   "metadata": {},
   "source": [
    "# 解法 \n",
    "原本以資料結構方式認為是用矩陣解但後來發現是需要用data-link的結構去解因此改寫法\n",
    "但也保留原本的"
   ]
  },
  {
   "cell_type": "code",
   "execution_count": 1,
   "id": "5b41b434-c2cd-4e79-95fc-bb42c39b5f5d",
   "metadata": {
    "tags": []
   },
   "outputs": [],
   "source": [
    "import numpy as np"
   ]
  },
  {
   "cell_type": "code",
   "execution_count": 2,
   "id": "7e661bbd-3f39-4d66-a5d4-3912e663638e",
   "metadata": {
    "tags": []
   },
   "outputs": [],
   "source": [
    "def addTwoNumbers(l1, l2):\n",
    "    \"\"\"\n",
    "    :type l1: ListNode\n",
    "    :type l2: ListNode\n",
    "    :rtype: ListNode\n",
    "    \"\"\"\n",
    "    l1_new = l1[::-1]\n",
    "    l2_new = l2[::-1]\n",
    "    new_number_1 = ''.join([str(element) for element in l1_new])\n",
    "    new_number_2 = ''.join([str(element) for element in l2_new])\n",
    "    result = int(new_number_1)+int(new_number_2)\n",
    "    return [int(i) for i in str(result)]"
   ]
  },
  {
   "cell_type": "code",
   "execution_count": 3,
   "id": "6c04d183-de32-4dc3-92a5-b2b740de4de8",
   "metadata": {
    "tags": []
   },
   "outputs": [
    {
     "data": {
      "text/plain": [
       "[8, 0, 7]"
      ]
     },
     "execution_count": 3,
     "metadata": {},
     "output_type": "execute_result"
    }
   ],
   "source": [
    "l1 = [2,4,3]\n",
    "l2 = [5,6,4]\n",
    "addTwoNumbers(l1,l2)"
   ]
  },
  {
   "cell_type": "code",
   "execution_count": 4,
   "id": "2ab4e0b5-8f2f-4535-919c-87d928a72330",
   "metadata": {
    "tags": []
   },
   "outputs": [
    {
     "data": {
      "text/plain": [
       "list"
      ]
     },
     "execution_count": 4,
     "metadata": {},
     "output_type": "execute_result"
    }
   ],
   "source": [
    "type(l1)"
   ]
  },
  {
   "cell_type": "code",
   "execution_count": 5,
   "id": "5fa8125b-c102-4a41-99cc-2ca6b0deffec",
   "metadata": {
    "tags": []
   },
   "outputs": [],
   "source": [
    "class Solution(object):\n",
    "    def __init__(self, l1, l2):\n",
    "        self.l1 = l1\n",
    "        self.l2 = l2\n",
    "    def addTwoNumbers(self):\n",
    "        \"\"\"\n",
    "        :type l1: ListNode\n",
    "        :type l2: ListNode\n",
    "        :rtype: ListNode\n",
    "        \"\"\"\n",
    "        l1_new = l1[::-1]\n",
    "        l2_new = l2[::-1]\n",
    "        new_number_1 = ''.join([str(element) for element in l1_new])\n",
    "        new_number_2 = ''.join([str(element) for element in l2_new])\n",
    "        result = int(new_number_1)+int(new_number_2)\n",
    "        return [int(i) for i in str(result)]"
   ]
  },
  {
   "cell_type": "code",
   "execution_count": 6,
   "id": "560d471b-c411-477f-88cc-12292a1077e9",
   "metadata": {
    "tags": []
   },
   "outputs": [
    {
     "data": {
      "text/plain": [
       "[8, 0, 7]"
      ]
     },
     "execution_count": 6,
     "metadata": {},
     "output_type": "execute_result"
    }
   ],
   "source": [
    "l1 = [2,4,3]\n",
    "l2 = [5,6,4]\n",
    "\n",
    "Solution(l1,l2).addTwoNumbers()"
   ]
  },
  {
   "cell_type": "markdown",
   "id": "958e598c-aa8c-41fc-92e8-5433974aef42",
   "metadata": {},
   "source": [
    "# 官方解"
   ]
  },
  {
   "cell_type": "code",
   "execution_count": 7,
   "id": "12f94975-3e49-44c0-97a7-fad068aef045",
   "metadata": {
    "tags": []
   },
   "outputs": [],
   "source": [
    "class ListNode(object):\n",
    "    def __init__(self, val=0, next=None):\n",
    "        self.val = val\n",
    "        self.next = next"
   ]
  },
  {
   "cell_type": "code",
   "execution_count": 8,
   "id": "7ce0fa6a-d842-4c04-91be-67269910f293",
   "metadata": {
    "tags": []
   },
   "outputs": [],
   "source": [
    "class Solution(object):\n",
    "    def addTwoNumbers(self, l1, l2):\n",
    "        \"\"\"\n",
    "        :type l1: ListNode\n",
    "        :type l2: ListNode\n",
    "        :rtype: ListNode\n",
    "        \"\"\"\n",
    "        ret = ListNode(0)\n",
    "        cur = ret\n",
    "        add = 0\n",
    "        \n",
    "        while l1 or l2 or add:\n",
    "            val = (l1.val if l1 else 0) + (l2.val if l2 else 0) + add\n",
    "            add = val / 10\n",
    "            cur.next = ListNode(val % 10)\n",
    "            cur = cur.next\n",
    "            l1 = l1.next if l1 else None\n",
    "            l2 = l2.next if l2 else None\n",
    "        \n",
    "        return ret.next"
   ]
  },
  {
   "cell_type": "code",
   "execution_count": 40,
   "id": "e988bc23-f425-4c52-8d85-7f0bd163964b",
   "metadata": {
    "tags": []
   },
   "outputs": [],
   "source": [
    "# l1 = [2,4,3]\n",
    "# l2 = [5,6,4]\n",
    "\n",
    "# Solution().addTwoNumbers(l1,l2)"
   ]
  },
  {
   "cell_type": "code",
   "execution_count": null,
   "id": "da01c926-fa62-475b-8584-6becac9f30ce",
   "metadata": {},
   "outputs": [],
   "source": []
  }
 ],
 "metadata": {
  "kernelspec": {
   "display_name": "Python 3 (ipykernel)",
   "language": "python",
   "name": "python3"
  },
  "language_info": {
   "codemirror_mode": {
    "name": "ipython",
    "version": 3
   },
   "file_extension": ".py",
   "mimetype": "text/x-python",
   "name": "python",
   "nbconvert_exporter": "python",
   "pygments_lexer": "ipython3",
   "version": "3.11.2"
  }
 },
 "nbformat": 4,
 "nbformat_minor": 5
}
