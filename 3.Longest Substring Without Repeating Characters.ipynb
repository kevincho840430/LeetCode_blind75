{
 "cells": [
  {
   "cell_type": "markdown",
   "id": "faa0ef96-05e5-40a2-adac-c1bf315cd09c",
   "metadata": {},
   "source": [
    "# 3.Longest Substring Without Repeating Characters"
   ]
  },
  {
   "cell_type": "markdown",
   "id": "1f17eca4-9807-40a1-8f92-c4b80022624b",
   "metadata": {},
   "source": [
    "Example 1:\n",
    "```\n",
    "Input: s = \"abcabcbb\"\n",
    "Output: 3\n",
    "Explanation: The answer is \"abc\", with the length of 3.\n",
    "```\n",
    "Example 2:\n",
    "```\n",
    "Input: s = \"bbbbb\"\n",
    "Output: 1\n",
    "Explanation: The answer is \"b\", with the length of 1.\n",
    "```\n",
    "Example 3:\n",
    "```\n",
    "Input: s = \"pwwkew\"\n",
    "Output: 3\n",
    "Explanation: The answer is \"wke\", with the length of 3.\n",
    "```\n",
    "Notice that the answer must be a substring, \"pwke\" is a subsequence and not a substring."
   ]
  },
  {
   "cell_type": "markdown",
   "id": "8d52fa29-5fc1-4d6d-89c4-2d7fa7b5f931",
   "metadata": {},
   "source": [
    "解法:直接使用sliding window"
   ]
  },
  {
   "cell_type": "code",
   "execution_count": 1,
   "id": "0723bd49-251b-4258-8a24-7a06533e6d97",
   "metadata": {
    "tags": []
   },
   "outputs": [],
   "source": [
    "class Solution(object):\n",
    "    def lengthOfLongestSubstring(s):\n",
    "        char_set = set()\n",
    "        max_len, start = 0, 0\n",
    "        for i, c in enumerate(s):\n",
    "            while c in char_set:\n",
    "                char_set.remove(s[start])\n",
    "                start += 1\n",
    "            char_set.add(c)\n",
    "            max_len = max(max_len, i - start + 1)\n",
    "        return max_len"
   ]
  },
  {
   "cell_type": "code",
   "execution_count": 2,
   "id": "714f8461-8b6f-4f1d-b659-3222527e4ba2",
   "metadata": {
    "tags": []
   },
   "outputs": [],
   "source": [
    "s = \"pwwkew\""
   ]
  },
  {
   "cell_type": "code",
   "execution_count": 20,
   "id": "30806f4c-3475-4651-9202-123d256b58d0",
   "metadata": {
    "tags": []
   },
   "outputs": [
    {
     "data": {
      "text/plain": [
       "'p'"
      ]
     },
     "execution_count": 20,
     "metadata": {},
     "output_type": "execute_result"
    }
   ],
   "source": [
    "s[0]"
   ]
  },
  {
   "cell_type": "code",
   "execution_count": 29,
   "id": "4b5918bd-fd00-4688-ae47-b0df60128d19",
   "metadata": {
    "tags": []
   },
   "outputs": [],
   "source": [
    "char_set = set()"
   ]
  },
  {
   "cell_type": "code",
   "execution_count": 30,
   "id": "fbd51e90-088c-4c7a-923c-91e5c405e2f3",
   "metadata": {
    "tags": []
   },
   "outputs": [],
   "source": [
    "max_len, start = 0, 0"
   ]
  },
  {
   "cell_type": "code",
   "execution_count": 31,
   "id": "9b70f30e-b3c2-4c8e-8c0a-c3d5dfab89ff",
   "metadata": {
    "tags": []
   },
   "outputs": [
    {
     "name": "stdout",
     "output_type": "stream",
     "text": [
      "0 p\n",
      "{'p'}\n",
      "1 w\n",
      "{'p', 'w'}\n",
      "2 w\n",
      "{'w'}\n",
      "3 k\n",
      "{'w', 'k'}\n",
      "4 e\n",
      "{'e', 'w', 'k'}\n",
      "5 w\n",
      "{'e', 'w', 'k'}\n"
     ]
    }
   ],
   "source": [
    "for i, c in enumerate(s):\n",
    "    print(i,c)\n",
    "    while c in char_set:\n",
    "        char_set.remove(s[start])\n",
    "        start += 1\n",
    "    char_set.add(c)\n",
    "    print(char_set)\n",
    "    #max_len = max(max_len, i - start + 1)"
   ]
  },
  {
   "cell_type": "code",
   "execution_count": null,
   "id": "23422c9a-0ec2-4cf9-b152-c605488af193",
   "metadata": {},
   "outputs": [],
   "source": []
  }
 ],
 "metadata": {
  "kernelspec": {
   "display_name": "Python 3 (ipykernel)",
   "language": "python",
   "name": "python3"
  },
  "language_info": {
   "codemirror_mode": {
    "name": "ipython",
    "version": 3
   },
   "file_extension": ".py",
   "mimetype": "text/x-python",
   "name": "python",
   "nbconvert_exporter": "python",
   "pygments_lexer": "ipython3",
   "version": "3.11.2"
  }
 },
 "nbformat": 4,
 "nbformat_minor": 5
}
