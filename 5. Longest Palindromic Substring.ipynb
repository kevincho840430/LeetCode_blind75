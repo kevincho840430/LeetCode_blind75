{
 "cells": [
  {
   "cell_type": "markdown",
   "id": "2b1b3002-ac79-4bad-9529-08d4dd3d762b",
   "metadata": {},
   "source": [
    "# 5. Longest Palindromic Substring"
   ]
  },
  {
   "cell_type": "markdown",
   "id": "33ad60d8-a84d-4ffd-903e-f956b3500dc8",
   "metadata": {},
   "source": [
    "Given a string s, return the longest \n",
    "palindromic substring in s.\n",
    "\n",
    "Example 1:\n",
    "```\n",
    "Input: s = \"babad\"\n",
    "Output: \"bab\"\n",
    "Explanation: \"aba\" is also a valid answer.\n",
    "```\n",
    "Example 2:\n",
    "```\n",
    "Input: s = \"cbbd\"\n",
    "Output: \"bb\"\n",
    "```"
   ]
  },
  {
   "cell_type": "code",
   "execution_count": 26,
   "id": "27094512-0ac1-4c7d-bca3-c24cff0fe06c",
   "metadata": {
    "tags": []
   },
   "outputs": [],
   "source": [
    "class Solution(object):\n",
    "    def longestPalindrome(self, s):\n",
    "        \"\"\"\n",
    "        :type s: str\n",
    "        :rtype: str\n",
    "        \"\"\"\n",
    "        res = \"\"\n",
    "        resLen = 0\n",
    "        for i in range(len(s)):\n",
    "            #odd\n",
    "            l ,r= i,i\n",
    "            while l >=0 and r <len(s) and s[l] == s[r]:\n",
    "                if(r-l+1) > resLen:\n",
    "                    res = s[l:r+1]\n",
    "                    resLen = r-l+1\n",
    "                l -= 1\n",
    "                r += 1\n",
    "            #even\n",
    "            l,r= i,i+1\n",
    "            while l >=0 and r <len(s) and s[l] == s[r]:\n",
    "                if(r-l+1) > resLen:\n",
    "                    res = s[l:r+1]\n",
    "                    resLen = r-l+1\n",
    "                l -= 1\n",
    "                r += 1\n",
    "        return res"
   ]
  },
  {
   "cell_type": "markdown",
   "id": "373fad9c-7153-45fa-908d-b97ff50480eb",
   "metadata": {},
   "source": [
    "解法:先理解回文字串的意思，最初的想法可能是從左邊與右邊都有一個for loop去存取字串，但後來看了一些解法反而是定義中間的字母並且去推另外兩側的字比較(中心擴散法)"
   ]
  },
  {
   "cell_type": "code",
   "execution_count": 28,
   "id": "4464f4b8-b191-49f8-9aa4-a47b98a2d532",
   "metadata": {
    "tags": []
   },
   "outputs": [],
   "source": [
    "s = \"babad\""
   ]
  },
  {
   "cell_type": "code",
   "execution_count": 29,
   "id": "a471623d-fbad-4ad1-9cf8-f70a10107e54",
   "metadata": {
    "tags": []
   },
   "outputs": [
    {
     "name": "stdout",
     "output_type": "stream",
     "text": [
      "b\n",
      "a\n",
      "b\n",
      "a\n",
      "d\n"
     ]
    }
   ],
   "source": [
    "for i in range(len(s)):\n",
    "    print(s[i])"
   ]
  },
  {
   "cell_type": "code",
   "execution_count": 30,
   "id": "005a15ca-476a-49e6-9c1a-785024126eae",
   "metadata": {
    "tags": []
   },
   "outputs": [
    {
     "data": {
      "text/plain": [
       "'bab'"
      ]
     },
     "execution_count": 30,
     "metadata": {},
     "output_type": "execute_result"
    }
   ],
   "source": [
    "a1 = Solution()\n",
    "a1.longestPalindrome(s)"
   ]
  },
  {
   "cell_type": "markdown",
   "id": "7470bb09-47bb-472e-ab6f-9e6f538c50fe",
   "metadata": {},
   "source": [
    "# 官方解\n",
    "- https://leetcode.com/problems/longest-palindromic-substring/solutions/3401644/detailed-recursive-explaination-with-pictures-in-c-java-python-dp-two-pointers/?languageTags=python"
   ]
  },
  {
   "cell_type": "code",
   "execution_count": 31,
   "id": "da282660-4848-47c2-a9f6-28b913fc0d53",
   "metadata": {
    "tags": []
   },
   "outputs": [],
   "source": [
    "class Solution:\n",
    "    def longestPalindrome(self, s: str) -> str:\n",
    "        ans=''\n",
    "        for i in range(len(s)):\n",
    "            ans=max(ans,expand(s,i,i), expand(s,i,i+1), key=len)\n",
    "        return ans\n",
    "            \n",
    "def expand(s,i,j):\n",
    "    while i>=0 and j<len(s) and s[i]==s[j]:\n",
    "        i-=1\n",
    "        j+=1\n",
    "    return s[i+1:j]"
   ]
  },
  {
   "cell_type": "code",
   "execution_count": null,
   "id": "528b6cab-0b3d-44e8-bad4-e9ff091c4eb2",
   "metadata": {},
   "outputs": [],
   "source": []
  }
 ],
 "metadata": {
  "kernelspec": {
   "display_name": "Python 3 (ipykernel)",
   "language": "python",
   "name": "python3"
  },
  "language_info": {
   "codemirror_mode": {
    "name": "ipython",
    "version": 3
   },
   "file_extension": ".py",
   "mimetype": "text/x-python",
   "name": "python",
   "nbconvert_exporter": "python",
   "pygments_lexer": "ipython3",
   "version": "3.11.2"
  }
 },
 "nbformat": 4,
 "nbformat_minor": 5
}
