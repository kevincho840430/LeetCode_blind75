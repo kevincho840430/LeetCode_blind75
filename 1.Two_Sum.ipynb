{
 "cells": [
  {
   "cell_type": "markdown",
   "id": "466125c6-7fe1-437d-aca2-b1910981237b",
   "metadata": {},
   "source": [
    "### 1.Two Sum\n",
    "\n",
    "Given an array of integers nums and an integer target, return indices of the two numbers such that they add up to target.\n",
    "\n",
    "You may assume that each input would have exactly one solution, and you may not use the same element twice.\n",
    "\n",
    "You can return the answer in any order."
   ]
  },
  {
   "cell_type": "markdown",
   "id": "77374418-1ba0-43f3-ac6b-022cc494c558",
   "metadata": {},
   "source": [
    "Example 1:\n",
    "```\n",
    "Input: nums = [2,7,11,15], target = 9\n",
    "Output: [0,1]\n",
    "Explanation: Because nums[0] + nums[1] == 9, we return [0, 1].</br>\n",
    "```\n",
    "Example 2:\n",
    "```\n",
    "Input: nums = [3,2,4], target = 6\n",
    "Output: [1,2]\n",
    "```\n",
    "Example 3:\n",
    "```\n",
    "Input: nums = [3,3], target = 6\n",
    "Output: [0,1]\n",
    "```"
   ]
  },
  {
   "cell_type": "markdown",
   "id": "a09b2352-1b7f-4127-9db3-aeea1af1e103",
   "metadata": {},
   "source": [
    "# 解題心得:\n",
    "- 直覺上來看就是需要有一個地方去存取兩個不同位置的值所以使用enumerate一開始做也是使用forLoop去跑兩層迴圈\n",
    "如果有找到就直接return\n"
   ]
  },
  {
   "cell_type": "markdown",
   "id": "c310e4f3-45fa-4bda-a819-2dda05f2a45f",
   "metadata": {},
   "source": [
    "### function"
   ]
  },
  {
   "cell_type": "code",
   "execution_count": 71,
   "id": "4a5cef9d-f0a9-4194-9379-374e2ffe500f",
   "metadata": {
    "tags": []
   },
   "outputs": [
    {
     "data": {
      "text/plain": [
       "[0, 1]"
      ]
     },
     "execution_count": 71,
     "metadata": {},
     "output_type": "execute_result"
    }
   ],
   "source": [
    "class Solution(object):\n",
    "    def twoSum(self, nums, target):\n",
    "        \"\"\"\n",
    "        :type nums: List[int]\n",
    "        :type target: int\n",
    "        :rtype: List[int]\n",
    "        \"\"\"\n",
    "        for i ,value in enumerate(nums):\n",
    "            for j in range(i+1, len(nums)):\n",
    "                if value+nums[j]==target:\n",
    "                    return[i,j]"
   ]
  },
  {
   "cell_type": "markdown",
   "id": "b80ad200-d25b-42d6-8aea-1bbf65f0d8b6",
   "metadata": {},
   "source": [
    "#### InputTest"
   ]
  },
  {
   "cell_type": "code",
   "execution_count": 72,
   "id": "1c9e31db-eb85-4740-8a7a-fe9ba1b288e1",
   "metadata": {
    "tags": []
   },
   "outputs": [
    {
     "data": {
      "text/plain": [
       "[0, 1]"
      ]
     },
     "execution_count": 72,
     "metadata": {},
     "output_type": "execute_result"
    }
   ],
   "source": [
    "nums = [2,7,11,15]\n",
    "target = 9\n",
    "ai = Solution()\n",
    "ai.twoSum(nums,target)"
   ]
  },
  {
   "cell_type": "markdown",
   "id": "7418f155-d631-458f-8796-3de2062c3a9f",
   "metadata": {},
   "source": [
    "# 官方解"
   ]
  },
  {
   "cell_type": "code",
   "execution_count": 75,
   "id": "8cc10bdb-e0ab-4e0a-a65b-386a5d5635c6",
   "metadata": {
    "tags": []
   },
   "outputs": [],
   "source": [
    "class Solution:\n",
    "    def twoSum(self, nums, target):\n",
    "        hashmap = {}\n",
    "        for i in range(len(nums)):\n",
    "            hashmap[nums[i]] = i\n",
    "        for i in range(len(nums)):\n",
    "            complement = target - nums[i]\n",
    "            if complement in hashmap and hashmap[complement] != i:\n",
    "                return [i, hashmap[complement]] "
   ]
  },
  {
   "cell_type": "code",
   "execution_count": 76,
   "id": "25df4deb-c02d-4ba2-a119-3951f4f33289",
   "metadata": {
    "tags": []
   },
   "outputs": [
    {
     "data": {
      "text/plain": [
       "[0, 1]"
      ]
     },
     "execution_count": 76,
     "metadata": {},
     "output_type": "execute_result"
    }
   ],
   "source": [
    "nums = [2,7,11,15]\n",
    "target = 9\n",
    "ai = Solution()\n",
    "ai.twoSum(nums,target)"
   ]
  }
 ],
 "metadata": {
  "kernelspec": {
   "display_name": "Python 3 (ipykernel)",
   "language": "python",
   "name": "python3"
  },
  "language_info": {
   "codemirror_mode": {
    "name": "ipython",
    "version": 3
   },
   "file_extension": ".py",
   "mimetype": "text/x-python",
   "name": "python",
   "nbconvert_exporter": "python",
   "pygments_lexer": "ipython3",
   "version": "3.11.2"
  }
 },
 "nbformat": 4,
 "nbformat_minor": 5
}
