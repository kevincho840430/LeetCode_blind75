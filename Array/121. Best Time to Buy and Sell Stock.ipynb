{
 "cells": [
  {
   "cell_type": "markdown",
   "id": "6f44e91e-30bf-42bc-b8eb-15c704882ac8",
   "metadata": {},
   "source": [
    "# 121. Best Time to Buy and Sell Stock"
   ]
  },
  {
   "cell_type": "markdown",
   "id": "e3260e87-3da5-4ed9-b28f-905954d142ea",
   "metadata": {},
   "source": [
    "You are given an array prices where prices[i] is the price of a given stock on the ith day.\n",
    "\n",
    "You want to maximize your profit by choosing a single day to buy one stock and choosing a different day in the future to sell that stock.\n",
    "\n",
    "Return the maximum profit you can achieve from this transaction. If you cannot achieve any profit, return 0.\n",
    "\n",
    "Example 1:\n",
    "```\n",
    "Input: prices = [7,1,5,3,6,4]\n",
    "Output: 5\n",
    "Explanation: Buy on day 2 (price = 1) and sell on day 5 (price = 6), profit = 6-1 = 5.\n",
    "Note that buying on day 2 and selling on day 1 is not allowed because you must buy before you sell.\n",
    "```\n",
    "Example 2:\n",
    "```\n",
    "Input: prices = [7,6,4,3,1]\n",
    "Output: 0\n",
    "Explanation: In this case, no transactions are done and the max profit = 0.\n",
    "```"
   ]
  },
  {
   "cell_type": "code",
   "execution_count": 14,
   "id": "c5bc0df1-0415-4bf3-86f1-809f6fef8fd1",
   "metadata": {
    "tags": []
   },
   "outputs": [],
   "source": [
    "class Solution(object):\n",
    "    def maxProfit(self, prices):\n",
    "        \"\"\"\n",
    "        :type prices: List[int]\n",
    "        :rtype: int\n",
    "        \"\"\"\n",
    "        left = 0 #Buy\n",
    "        right = 1 #Sell\n",
    "        max_profit = 0\n",
    "        while right < len(prices):\n",
    "            currentProfit = prices[right] - prices[left] #our current Profit\n",
    "            if prices[left] < prices[right]:\n",
    "                max_profit =max(currentProfit,max_profit)\n",
    "            else:\n",
    "                left = right\n",
    "            right += 1\n",
    "        return max_profit"
   ]
  },
  {
   "cell_type": "markdown",
   "id": "2e21a531-a7c3-4a0f-a0f6-1c0644788e94",
   "metadata": {},
   "source": [
    "解法:兩個值去存買進跟賣出的價格，並比較最大值如果沒有就維持原本的買價"
   ]
  },
  {
   "cell_type": "code",
   "execution_count": 15,
   "id": "80cefb7e-317f-48c9-b2cb-ce0d3809cdbc",
   "metadata": {
    "tags": []
   },
   "outputs": [],
   "source": [
    "prices = [7,1,5,3,6,4]"
   ]
  },
  {
   "cell_type": "code",
   "execution_count": 16,
   "id": "8e760d56-ea1d-4001-8249-a5a576d5c564",
   "metadata": {
    "tags": []
   },
   "outputs": [
    {
     "name": "stdout",
     "output_type": "stream",
     "text": [
      "NowProfit: -6\n",
      "NowProfit: 4\n",
      "NowProfit: 2\n",
      "NowProfit: 5\n",
      "NowProfit: 3\n"
     ]
    },
    {
     "data": {
      "text/plain": [
       "5"
      ]
     },
     "execution_count": 16,
     "metadata": {},
     "output_type": "execute_result"
    }
   ],
   "source": [
    "maxProfit(price)"
   ]
  },
  {
   "cell_type": "code",
   "execution_count": 13,
   "id": "f1a26262-4c12-4bcf-a0a8-44449cea7876",
   "metadata": {
    "tags": []
   },
   "outputs": [],
   "source": [
    "def maxProfit(prices):\n",
    "    left = 0 \n",
    "    right = 1\n",
    "    max_profit = 0\n",
    "    while right < len(prices):\n",
    "        currentProfit = prices[right]-prices[left]\n",
    "        print(\"NowProfit:\",currentProfit)\n",
    "        if prices[left]<prices[right]:\n",
    "            max_profit = max(max_profit,currentProfit)\n",
    "        else:\n",
    "            left = right\n",
    "        right += 1\n",
    "    return max_profit"
   ]
  },
  {
   "cell_type": "markdown",
   "id": "3c2e8ed6-9cab-4fe4-8a0d-d7689fefece9",
   "metadata": {},
   "source": [
    "# 其他解"
   ]
  },
  {
   "cell_type": "code",
   "execution_count": 17,
   "id": "6c3e7934-31a0-496b-b2a5-df7743d18c85",
   "metadata": {
    "tags": []
   },
   "outputs": [],
   "source": [
    "class Solution(object):\n",
    "    def maxProfit(self, prices):\n",
    "        profit = 0\n",
    "        buy = prices[0]\n",
    "        for sell in prices[1:]:\n",
    "            if sell > buy:\n",
    "                profit = max(profit, sell - buy)\n",
    "            else:\n",
    "                buy = sell\n",
    "        \n",
    "        return profit"
   ]
  },
  {
   "cell_type": "code",
   "execution_count": 18,
   "id": "925a4490-8779-41a0-b37a-c0a51461b260",
   "metadata": {
    "tags": []
   },
   "outputs": [
    {
     "data": {
      "text/plain": [
       "5"
      ]
     },
     "execution_count": 18,
     "metadata": {},
     "output_type": "execute_result"
    }
   ],
   "source": [
    "a1 = Solution()\n",
    "a1.maxProfit(prices)"
   ]
  },
  {
   "cell_type": "code",
   "execution_count": null,
   "id": "f63cafb0-ea42-4689-af6c-3de5dc96fa02",
   "metadata": {},
   "outputs": [],
   "source": [
    " "
   ]
  }
 ],
 "metadata": {
  "kernelspec": {
   "display_name": "Python 3 (ipykernel)",
   "language": "python",
   "name": "python3"
  },
  "language_info": {
   "codemirror_mode": {
    "name": "ipython",
    "version": 3
   },
   "file_extension": ".py",
   "mimetype": "text/x-python",
   "name": "python",
   "nbconvert_exporter": "python",
   "pygments_lexer": "ipython3",
   "version": "3.11.2"
  }
 },
 "nbformat": 4,
 "nbformat_minor": 5
}
