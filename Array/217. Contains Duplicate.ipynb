{
 "cells": [
  {
   "cell_type": "markdown",
   "id": "d25269c7-00d3-40f6-bb85-14020d8bfff3",
   "metadata": {},
   "source": [
    "# 217. Contains Duplicate"
   ]
  },
  {
   "cell_type": "markdown",
   "id": "dc9345ea-fde5-456a-bfbd-8f284bb14285",
   "metadata": {},
   "source": [
    "Given an integer array nums, return true if any value appears at least twice in the array, and return false if every element is distinct.\n",
    "\n",
    " \n",
    "\n",
    "Example 1:\n",
    "```\n",
    "Input: nums = [1,2,3,1]\n",
    "Output: true\n",
    "```\n",
    "Example 2:\n",
    "```\n",
    "Input: nums = [1,2,3,4]\n",
    "Output: false\n",
    "```\n",
    "Example 3:\n",
    "```\n",
    "Input: nums = [1,1,1,3,3,4,3,2,4,2]\n",
    "Output: true\n",
    "```"
   ]
  },
  {
   "cell_type": "markdown",
   "id": "9c3df947-f674-406c-a040-6ac8506a051f",
   "metadata": {},
   "source": [
    "解法:直接使用count如果有就回傳True沒有就做完並回傳False"
   ]
  },
  {
   "cell_type": "code",
   "execution_count": 48,
   "id": "dd49c765-7930-4b93-9a77-be5aeb7fb597",
   "metadata": {
    "tags": []
   },
   "outputs": [],
   "source": [
    "class Solution(object):\n",
    "    def containsDuplicate(self, nums):\n",
    "        \"\"\"\n",
    "        :type nums: List[int]\n",
    "        :rtype: bool\n",
    "        \"\"\"\n",
    "        count = 0\n",
    "        for i in nums:\n",
    "            count = nums.count(i)\n",
    "            if count>1:\n",
    "                return True\n",
    "        if count<=1:\n",
    "            return False"
   ]
  },
  {
   "cell_type": "code",
   "execution_count": 49,
   "id": "e8559152-6d2b-486b-b2da-19a5ca925e56",
   "metadata": {
    "tags": []
   },
   "outputs": [],
   "source": [
    "nums = [1,2,3,4]"
   ]
  },
  {
   "cell_type": "code",
   "execution_count": 50,
   "id": "2b21747d-17f6-49bf-9fbb-c45a8a36d853",
   "metadata": {
    "tags": []
   },
   "outputs": [
    {
     "data": {
      "text/plain": [
       "False"
      ]
     },
     "execution_count": 50,
     "metadata": {},
     "output_type": "execute_result"
    }
   ],
   "source": [
    "a1 = Solution()\n",
    "a1.containsDuplicate(nums)"
   ]
  },
  {
   "cell_type": "markdown",
   "id": "7f303b7a-d62a-4619-a2b6-0b654012a0ab",
   "metadata": {},
   "source": [
    "# 官方解:用set可直接減少比較"
   ]
  },
  {
   "cell_type": "code",
   "execution_count": 51,
   "id": "1244c06e-c7d7-48b3-aab9-0b801b83ac41",
   "metadata": {
    "tags": []
   },
   "outputs": [],
   "source": [
    "# Time complexity: O(n)\n",
    "# Space complexity: O(n)\n",
    "class Solution(object):\n",
    "    def containsDuplicate(self, nums):\n",
    "        hset = set()\n",
    "        for idx in nums:\n",
    "            if idx in hset:\n",
    "                return True\n",
    "            else:\n",
    "                hset.add(idx)"
   ]
  }
 ],
 "metadata": {
  "kernelspec": {
   "display_name": "Python 3 (ipykernel)",
   "language": "python",
   "name": "python3"
  },
  "language_info": {
   "codemirror_mode": {
    "name": "ipython",
    "version": 3
   },
   "file_extension": ".py",
   "mimetype": "text/x-python",
   "name": "python",
   "nbconvert_exporter": "python",
   "pygments_lexer": "ipython3",
   "version": "3.11.2"
  }
 },
 "nbformat": 4,
 "nbformat_minor": 5
}
